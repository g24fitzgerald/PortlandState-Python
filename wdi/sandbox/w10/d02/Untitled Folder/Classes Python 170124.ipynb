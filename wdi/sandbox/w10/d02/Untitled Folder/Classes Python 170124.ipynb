{
 "cells": [
  {
   "cell_type": "code",
   "execution_count": 17,
   "metadata": {
    "collapsed": true
   },
   "outputs": [],
   "source": [
    "#base class inheriting from base object. Use object with Python 2.7\n",
    "#Python 3 is different. use object as arg to be safe\n",
    "class Animal(object):\n",
    "    # __constructor function. create name upon conception\n",
    "    def __init__(self, name):\n",
    "        print \"I'm a constructor function. I run upon instantiation'\"\n",
    "        self.name = name\n",
    "    def speak(self): #methods in python take self as an arg (like this in js)\n",
    "        print \"Hello, %s\" % self.name #call self.name now \n",
    "    def introduction(self):\n",
    "        print \"I'm %s\" % self.name"
   ]
  },
  {
   "cell_type": "code",
   "execution_count": 16,
   "metadata": {
    "collapsed": false
   },
   "outputs": [
    {
     "name": "stdout",
     "output_type": "stream",
     "text": [
      "I'm a constructor function. I run upon instantiation'\n",
      "Hello, Ghangas\n",
      "I'm Ghangas\n"
     ]
    }
   ],
   "source": [
    "#instantiate animal \n",
    "animal = Animal('Ghangas') \n",
    "animal.speak()\n",
    "animal.introduction()"
   ]
  },
  {
   "cell_type": "code",
   "execution_count": 18,
   "metadata": {
    "collapsed": true
   },
   "outputs": [],
   "source": [
    "#specify what class you inherit from (Animal) to inherit speak and introduction\n",
    "class Dog(Animal):\n",
    "    #here we override the speak method with custom method\n",
    "    def speak(self): \n",
    "        print \"Bark bark, %s \" % self.name"
   ]
  },
  {
   "cell_type": "code",
   "execution_count": 21,
   "metadata": {
    "collapsed": false
   },
   "outputs": [
    {
     "name": "stdout",
     "output_type": "stream",
     "text": [
      "I'm a constructor function. I run upon instantiation'\n",
      "Bark bark, Milo \n"
     ]
    }
   ],
   "source": [
    "dog = Dog('Milo')\n",
    "dog.speak()"
   ]
  },
  {
   "cell_type": "code",
   "execution_count": 27,
   "metadata": {
    "collapsed": true
   },
   "outputs": [],
   "source": [
    "class Cat(Animal):\n",
    "    def meow(self):\n",
    "        print \"Meow, %s \" % self.name"
   ]
  },
  {
   "cell_type": "code",
   "execution_count": 28,
   "metadata": {
    "collapsed": false
   },
   "outputs": [
    {
     "name": "stdout",
     "output_type": "stream",
     "text": [
      "I'm a constructor function. I run upon instantiation'\n",
      "Meow, hermie \n"
     ]
    }
   ],
   "source": [
    "cat = Cat('hermie')\n",
    "cat.meow()"
   ]
  },
  {
   "cell_type": "code",
   "execution_count": null,
   "metadata": {
    "collapsed": true
   },
   "outputs": [],
   "source": []
  }
 ],
 "metadata": {
  "kernelspec": {
   "display_name": "Python [default]",
   "language": "python",
   "name": "python2"
  },
  "language_info": {
   "codemirror_mode": {
    "name": "ipython",
    "version": 2
   },
   "file_extension": ".py",
   "mimetype": "text/x-python",
   "name": "python",
   "nbconvert_exporter": "python",
   "pygments_lexer": "ipython2",
   "version": "2.7.12"
  }
 },
 "nbformat": 4,
 "nbformat_minor": 1
}
